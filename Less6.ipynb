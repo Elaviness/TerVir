{
  "nbformat": 4,
  "nbformat_minor": 0,
  "metadata": {
    "colab": {
      "name": "Less6.ipynb",
      "provenance": []
    },
    "kernelspec": {
      "name": "python3",
      "display_name": "Python 3"
    }
  },
  "cells": [
    {
      "cell_type": "markdown",
      "metadata": {
        "id": "cJgoAYJtF7TU"
      },
      "source": [
        "***Даны значения величины заработной платы заемщиков банка (zp) и значения их поведенческого кредитного скоринга (ks):\n",
        "zp = [35, 45, 190, 200, 40, 70, 54, 150, 120, 110],\n",
        "ks = [401, 574, 874, 919, 459, 739, 653, 902, 746, 832].\n",
        "Найдите ковариацию этих двух величин с помощью элементарных действий, а затем с помощью функции cov из numpy\n",
        "Полученные значения должны быть равны.\n",
        "Найдите коэффициент корреляции Пирсона с помощью ковариации и среднеквадратичных отклонений двух признаков,\n",
        "а затем с использованием функций из библиотек numpy и pandas.***"
      ]
    },
    {
      "cell_type": "code",
      "metadata": {
        "colab": {
          "base_uri": "https://localhost:8080/"
        },
        "id": "sfnIU27xFYKI",
        "outputId": "853beef4-bf05-4112-94df-e72ffe1a728d"
      },
      "source": [
        "import numpy as np\n",
        " \n",
        "zp = np.array([35, 45, 190, 200, 40, 70, 54, 150, 120, 110]) \n",
        "ks = np.array([401, 574, 874, 919, 459, 739, 653, 902, 746, 832])\n",
        " \n",
        "cov = np.mean(zp*ks) - np.mean(zp)*np.mean(ks)\n",
        "cov"
      ],
      "execution_count": null,
      "outputs": [
        {
          "output_type": "execute_result",
          "data": {
            "text/plain": [
              "9157.839999999997"
            ]
          },
          "metadata": {
            "tags": []
          },
          "execution_count": 4
        }
      ]
    },
    {
      "cell_type": "code",
      "metadata": {
        "colab": {
          "base_uri": "https://localhost:8080/"
        },
        "id": "C531u2cCG8Cg",
        "outputId": "990348d5-1322-4b9d-eae4-069207954191"
      },
      "source": [
        "std_zp = zp.std()\n",
        "std_ks = ks.std()\n",
        " \n",
        "r = cov/(std_zp*std_ks) \n",
        "r"
      ],
      "execution_count": null,
      "outputs": [
        {
          "output_type": "execute_result",
          "data": {
            "text/plain": [
              "0.8874900920739158"
            ]
          },
          "metadata": {
            "tags": []
          },
          "execution_count": 6
        }
      ]
    },
    {
      "cell_type": "code",
      "metadata": {
        "id": "74GBEGtmHyUp",
        "colab": {
          "base_uri": "https://localhost:8080/"
        },
        "outputId": "efcd0f80-c7aa-42ca-8a78-fc2316049438"
      },
      "source": [
        "#расчёт встроенной функцией\n",
        " \n",
        "np.corrcoef(zp,ks)"
      ],
      "execution_count": null,
      "outputs": [
        {
          "output_type": "execute_result",
          "data": {
            "text/plain": [
              "array([[1.        , 0.88749009],\n",
              "       [0.88749009, 1.        ]])"
            ]
          },
          "metadata": {
            "tags": []
          },
          "execution_count": 5
        }
      ]
    },
    {
      "cell_type": "markdown",
      "metadata": {
        "id": "0imNp3VrR6uk"
      },
      "source": [
        " ***Измерены значения IQ выборки студентов,\n",
        "обучающихся в местных технических вузах:\n",
        "131, 125, 115, 122, 131, 115, 107, 99, 125, 111.\n",
        "Известно, что в генеральной совокупности IQ распределен нормально.\n",
        "Найдите доверительный интервал для математического ожидания с надежностью 0.95.***"
      ]
    },
    {
      "cell_type": "code",
      "metadata": {
        "colab": {
          "base_uri": "https://localhost:8080/"
        },
        "id": "aygTl-5WSfEe",
        "outputId": "7acb6f19-d25b-44f7-9059-81c84e8d9a4b"
      },
      "source": [
        "iq = np.array([131, 125, 115, 122, 131, 115, 107, 99, 125, 111]) \n",
        " \n",
        "Alpha = 0.05\n",
        "#Критерий двухсторонний, => смотрим на критерий Стьюдента при 0.025,\n",
        "# размерность выборки 10, значит 9 степеней свободы\n",
        "# t_a/2=2.262\n",
        " \n",
        "x0=iq.mean() - 2.262*(iq.std(ddof=1)/(10**0.5))\n",
        "x1=iq.mean() + 2.262*(iq.std(ddof=1)/(10**0.5))\n",
        " \n",
        "print(f'Доверительный интервал: [{x0:.4f};{x1:.4f}]')"
      ],
      "execution_count": null,
      "outputs": [
        {
          "output_type": "stream",
          "text": [
            "Доверительный интервал: [110.5566;125.6434]\n"
          ],
          "name": "stdout"
        }
      ]
    },
    {
      "cell_type": "markdown",
      "metadata": {
        "id": "HBoXZNw_Us9e"
      },
      "source": [
        "***Известно, что рост футболистов в сборной распределен нормально\n",
        "с дисперсией генеральной совокупности, равной 25 кв.см. Объем выборки равен 27,\n",
        "среднее выборочное составляет 174.2. Найдите доверительный интервал для математического ожидания с надежностью 0.95.***\n",
        " \n",
        "$$\\sigma=5, \\alpha/2=0.025, n=27, m(x) =174.2, Z=\\pm1.96$$"
      ]
    },
    {
      "cell_type": "code",
      "metadata": {
        "id": "5ru3VoUqU93T",
        "colab": {
          "base_uri": "https://localhost:8080/"
        },
        "outputId": "0c811716-57a0-41f8-824f-daa8d43e6245"
      },
      "source": [
        "x0=174.2 - 1.96*(5/(27**0.5)) \n",
        "x1=174.2 + 1.96*(5/(27**0.5))\n",
        " \n",
        "print(f'Доверительный интервал: [{x0:.4f};{x1:.4f}]')"
      ],
      "execution_count": null,
      "outputs": [
        {
          "output_type": "stream",
          "text": [
            "Доверительный интервал: [172.3140;176.0860]\n"
          ],
          "name": "stdout"
        }
      ]
    }
  ]
}