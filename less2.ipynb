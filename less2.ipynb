{
 "cells": [
  {
   "cell_type": "markdown",
   "metadata": {},
   "source": [
    "1. Вероятность того, что стрелок попадет в мишень, выстрелив один раз, равна 0.8. \n",
    "Стрелок выстрелил 100 раз. Найдите вероятность того, что стрелок попадет в цель ровно 85 раз."
   ]
  },
  {
   "cell_type": "markdown",
   "metadata": {},
   "source": [
    "$$P_n(X=k) = C_n^k p^k q^{n-k}$$"
   ]
  },
  {
   "cell_type": "markdown",
   "metadata": {},
   "source": [
    "n=100; k = 85; p=0.8; q=0.2\n"
   ]
  },
  {
   "cell_type": "code",
   "execution_count": 1,
   "metadata": {},
   "outputs": [
    {
     "data": {
      "text/plain": [
       "0.048061793700746556"
      ]
     },
     "execution_count": 1,
     "metadata": {},
     "output_type": "execute_result"
    }
   ],
   "source": [
    "from math import factorial as f\n",
    "\n",
    "p=(f(100)/(f(85)*f(15)))*pow(0.8,85)*pow(0.2,15)\n",
    "p"
   ]
  },
  {
   "cell_type": "markdown",
   "metadata": {},
   "source": [
    "2. Вероятность того, что лампочка перегорит в течение первого дня эксплуатации, равна 0.0004. В жилом комплексе после ремонта в один день включили 5000 новых лампочек. Какова вероятность, что ни одна из них не перегорит в первый день? Какова вероятность, что перегорят ровно две?"
   ]
  },
  {
   "cell_type": "markdown",
   "metadata": {},
   "source": [
    "$$P_m \\approx \\frac{\\lambda^m}{m!}e^{-\\lambda}$$"
   ]
  },
  {
   "cell_type": "code",
   "execution_count": 5,
   "metadata": {},
   "outputs": [
    {
     "name": "stdout",
     "output_type": "stream",
     "text": [
      "p(a):0.1353352832366127\n",
      "p(b):0.2706705664732254\n"
     ]
    }
   ],
   "source": [
    "# a) lamda=n*p=5000*0,0004; m=0; n=5000\\\n",
    "from math import exp\n",
    "\n",
    "lamb = 5000*0.0004\n",
    "\n",
    "p_a = pow(lamb,0)/f(0)*exp(-lamb)\n",
    "print(f'p(a):{p_a}')\n",
    "\n",
    "# б) m=2; n=5000\n",
    "p_b = pow(lamb,2)/f(2)*exp(-lamb)\n",
    "print(f'p(b):{p_b}')"
   ]
  },
  {
   "cell_type": "markdown",
   "metadata": {},
   "source": [
    "3. Монету подбросили 144 раза. Какова вероятность, что орел выпадет ровно 70 раз?"
   ]
  },
  {
   "cell_type": "code",
   "execution_count": 3,
   "metadata": {},
   "outputs": [
    {
     "data": {
      "text/plain": [
       "0.06281178035144776"
      ]
     },
     "execution_count": 3,
     "metadata": {},
     "output_type": "execute_result"
    }
   ],
   "source": [
    "# n=144; k=70; p=0.5; q=0.5\n",
    "\n",
    "p_3 =(f(144)/(f(70)*f(74)))*pow(0.5,70)*pow(0.5,74)\n",
    "p_3"
   ]
  },
  {
   "cell_type": "markdown",
   "metadata": {},
   "source": [
    "4. В первом ящике находится 10 мячей, из которых 7 - белые. Во втором ящике - 11 мячей, из которых 9 белых. Из каждого ящика вытаскивают случайным образом по два мяча. Какова вероятность того, что все мячи белые? Какова вероятность того, что ровно два мяча белые? Какова вероятность того, что хотя бы один мяч белый?"
   ]
  },
  {
   "cell_type": "code",
   "execution_count": 8,
   "metadata": {},
   "outputs": [
    {
     "data": {
      "text/plain": [
       "0.3054545454545455"
      ]
     },
     "execution_count": 8,
     "metadata": {},
     "output_type": "execute_result"
    }
   ],
   "source": [
    "def comb(n,k):\n",
    "    return int(f(n)/(f(k)*f(n-k)))\n",
    "\n",
    "p_4_1 = comb(7,2)/comb(10,2) * comb(9,2)/comb(11,2)\n",
    "p_4_1"
   ]
  },
  {
   "cell_type": "code",
   "execution_count": 9,
   "metadata": {},
   "outputs": [
    {
     "data": {
      "text/plain": [
       "0.20484848484848486"
      ]
     },
     "execution_count": 9,
     "metadata": {},
     "output_type": "execute_result"
    }
   ],
   "source": [
    "p_4_2 = (comb(7,2)/comb(10,2)*comb(2,2)/comb(11,2)) + \\\n",
    "            (comb(3,2)/comb(10,2) * comb(9,2)/comb(11,2)) + \\\n",
    "            ((comb(7,1)*comb(3,1))/comb(10,2)*((comb(9,1)*comb(2,1))/comb(11,2)))\n",
    "p_4_2"
   ]
  },
  {
   "cell_type": "code",
   "execution_count": 7,
   "metadata": {},
   "outputs": [
    {
     "data": {
      "text/plain": [
       "0.9987878787878788"
      ]
     },
     "execution_count": 7,
     "metadata": {},
     "output_type": "execute_result"
    }
   ],
   "source": [
    "p_4_3 = 1 - (comb(3,2)/comb(10,2) * comb(2,2)/comb(11,2))\n",
    "p_4_3"
   ]
  }
 ],
 "metadata": {
  "kernelspec": {
   "display_name": "Python 3",
   "language": "python",
   "name": "python3"
  },
  "language_info": {
   "codemirror_mode": {
    "name": "ipython",
    "version": 3
   },
   "file_extension": ".py",
   "mimetype": "text/x-python",
   "name": "python",
   "nbconvert_exporter": "python",
   "pygments_lexer": "ipython3",
   "version": "3.8.5"
  }
 },
 "nbformat": 4,
 "nbformat_minor": 4
}
