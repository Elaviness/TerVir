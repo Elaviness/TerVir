{
 "cells": [
  {
   "cell_type": "markdown",
   "metadata": {},
   "source": [
    "1. Даны значения зарплат из выборки выпускников: 100, 80, 75, 77, 89, 33, 45, 25, 65, 17, 30, 24, 57, 55, 70, 75, 65, 84, 90, 150. Посчитать (желательно без использования статистических методов наподобие std, var, mean) среднее арифметическое, среднее квадратичное отклонение, смещенную и несмещенную оценки дисперсий для данной выборки."
   ]
  },
  {
   "cell_type": "code",
   "execution_count": 10,
   "metadata": {},
   "outputs": [
    {
     "name": "stdout",
     "output_type": "stream",
     "text": [
      "Ср.арифм: 65.3, \n",
      "Ср.квадр.: 6.892423376432994, \n",
      "Смещ.оценка: 47.5055,\n",
      "Несмещ.оценка: 50.00578947368421\n"
     ]
    },
    {
     "data": {
      "text/plain": [
       "950.11"
      ]
     },
     "execution_count": 10,
     "metadata": {},
     "output_type": "execute_result"
    }
   ],
   "source": [
    "import math \n",
    "\n",
    "wages = [100, 80, 75, 77, 89, 33, 45, 25, 65, 17, 30, 24, 57, 55, 70, 75, 65, 84, 90, 150]\n",
    "\n",
    "def average(list):\n",
    "    sum = 0\n",
    "    count = 0\n",
    "    for itm in list:\n",
    "        sum += itm\n",
    "        count += 1\n",
    "    return sum/count\n",
    "\n",
    "def sd(list):\n",
    "    avg = average(list)\n",
    "    sum = 0\n",
    "    for itm in list:\n",
    "        sum += (itm - avg)**2\n",
    "    \n",
    "    return sum/len(list)\n",
    "\n",
    "mean_math = average(wages)\n",
    "msd = math.sqrt(sd(wages)/len(wages))\n",
    "offset_var = sd(wages)/len(wages)\n",
    "var = sd(wages)/(len(wages)-1)\n",
    "\n",
    "print(f'Ср.арифм: {mean_math}, \\nСр.квадр.: {msd}, \\nСмещ.оценка: {offset_var},\\nНесмещ.оценка: {var}' )"
   ]
  },
  {
   "cell_type": "markdown",
   "metadata": {},
   "source": [
    "2. В первом ящике находится 8 мячей, из которых 5 - белые. Во втором ящике - 12 мячей, из которых 5 белых. Из первого ящика вытаскивают случайным образом два мяча, из второго - 4. Какова вероятность того, что 3 мяча белые?"
   ]
  },
  {
   "cell_type": "code",
   "execution_count": 12,
   "metadata": {},
   "outputs": [
    {
     "data": {
      "text/plain": [
       "0.05429292929292929"
      ]
     },
     "execution_count": 12,
     "metadata": {},
     "output_type": "execute_result"
    }
   ],
   "source": [
    "from math import factorial as f\n",
    "def comb(n,k):\n",
    "    return int(f(n)/(f(k)*f(n-k)))\n",
    "#      б   б   б    ч    ч    ч     б   ч   б    б    ч    ч     ч   ч   б    б    б    ч\n",
    "p= 5/8*4/7*5/12*7/11*6/10*5/9 + 5/8*3/7*5/12*4/11*7/10*6/9 + 3/8*2/7*5/12*4/11*3/10*7/9\n",
    "p"
   ]
  },
  {
   "cell_type": "markdown",
   "metadata": {},
   "source": [
    "3. На соревновании по биатлону один из трех спортсменов стреляет и попадает в мишень. Вероятность попадания для первого спортсмена равна 0.9, для второго — 0.8, для третьего — 0.6. Найти вероятность того, что выстрел произведен: a). первым спортсменом б). вторым спортсменом в). третьим спортсменом."
   ]
  },
  {
   "cell_type": "code",
   "execution_count": 19,
   "metadata": {},
   "outputs": [
    {
     "name": "stdout",
     "output_type": "stream",
     "text": [
      " а): 0.3913043478260869, \n",
      " б): 0.34782608695652173, \n",
      " в): 0.26086956521739124\n"
     ]
    }
   ],
   "source": [
    "count = 1.0/3\n",
    "p_full = count*(0.9+0.8+0.6)\n",
    "p_a = (count*0.9)/p_full\n",
    "p_b = (count*0.8)/p_full\n",
    "p_c = (count*0.6)/p_full\n",
    "\n",
    "print(f' а): {p_a}, \\n б): {p_b}, \\n в): {p_c}')"
   ]
  },
  {
   "cell_type": "markdown",
   "metadata": {},
   "source": [
    "4. В университет на факультеты A и B поступило равное количество студентов, а на факультет C студентов поступило столько же, сколько на A и B вместе. Вероятность того, что студент факультета A сдаст первую сессию, равна 0.8. Для студента факультета B эта вероятность равна 0.7, а для студента факультета C - 0.9. Студент сдал первую сессию. Какова вероятность, что он учится: a). на факультете A б). на факультете B в). на факультете C?"
   ]
  },
  {
   "cell_type": "code",
   "execution_count": 20,
   "metadata": {},
   "outputs": [
    {
     "name": "stdout",
     "output_type": "stream",
     "text": [
      " а): 0.2608695652173913, \n",
      " б): 0.22826086956521735, \n",
      " в): 0.5869565217391304\n"
     ]
    }
   ],
   "source": [
    "# факультет А=х, В=х, С=2х, => \n",
    "p_full_2 = (1/4)*(0.8+0.7) + 0.5*0.9\n",
    "\n",
    "p_a = ((1/4)*0.8)/p_full\n",
    "p_b = ((1/4)*0.7)/p_full\n",
    "p_c = (0.5*0.9)/p_full\n",
    "\n",
    "print(f' а): {p_a}, \\n б): {p_b}, \\n в): {p_c}')"
   ]
  },
  {
   "cell_type": "markdown",
   "metadata": {},
   "source": [
    "5. Устройство состоит из трех деталей. Для первой детали вероятность выйти из строя в первый месяц равна 0.1, для второй - 0.2, для третьей - 0.25. Какова вероятность того, что в первый месяц выйдут из строя: а). все детали б). только две детали в). хотя бы одна деталь г). от одной до двух деталей?"
   ]
  },
  {
   "cell_type": "code",
   "execution_count": 21,
   "metadata": {},
   "outputs": [
    {
     "name": "stdout",
     "output_type": "stream",
     "text": [
      " а): 0.005000000000000001, \n",
      " б): 0.08000000000000002, \n",
      " в): 0.45999999999999996, \n",
      " г): 0.54\n"
     ]
    }
   ],
   "source": [
    "p_a = 0.1*0.2*0.25\n",
    "p_b = 0.1*0.2*0.75 + 0.1*0.8*0.25 + 0.9*0.2*0.25\n",
    "p_c = 1 - 0.9*0.8*0.75\n",
    "p_d = p_c + p_b\n",
    "\n",
    "print(f' а): {p_a}, \\n б): {p_b}, \\n в): {p_c}, \\n г): {p_d}')"
   ]
  },
  {
   "cell_type": "code",
   "execution_count": null,
   "metadata": {},
   "outputs": [],
   "source": []
  }
 ],
 "metadata": {
  "kernelspec": {
   "display_name": "Python 3",
   "language": "python",
   "name": "python3"
  },
  "language_info": {
   "codemirror_mode": {
    "name": "ipython",
    "version": 3
   },
   "file_extension": ".py",
   "mimetype": "text/x-python",
   "name": "python",
   "nbconvert_exporter": "python",
   "pygments_lexer": "ipython3",
   "version": "3.8.5"
  }
 },
 "nbformat": 4,
 "nbformat_minor": 4
}
