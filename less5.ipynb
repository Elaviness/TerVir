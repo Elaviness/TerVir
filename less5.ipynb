{
 "cells": [
  {
   "cell_type": "markdown",
   "metadata": {},
   "source": [
    "***Известно, что генеральная совокупность распределена нормально со средним квадратическим отклонением, равным 16. Найти доверительный интервал для оценки математического ожидания a с надежностью 0.95, если выборочная средняя M = 80, а объем выборки n = 256.***\n",
    "\n",
    "$$ \\sigma = 16, \\lambda=0.05, M(X)=80, n=256$$\n",
    "\n",
    "Для таких задач можно использовать $t$-распределение. При заданной вероятности ($\\lambda$) нужно рассчитать предельное\n",
    "отклонение от средней арифметической по следующей формуле:\n",
    "\n",
    "$$T_{1,2} = \\overline{X} \\pm \\frac{s_0}{\\sqrt{n}} \\cdot c_{\\gamma}$$"
   ]
  },
  {
   "cell_type": "code",
   "execution_count": 1,
   "metadata": {},
   "outputs": [
    {
     "name": "stdout",
     "output_type": "stream",
     "text": [
      "Доверительный интервал : [79.05;80.95]\n"
     ]
    }
   ],
   "source": [
    "from math import sqrt\n",
    "from numpy import std\n",
    "\n",
    "t2 = 80 + (16/sqrt(256))*0.95\n",
    "t1 = 80 - (16/sqrt(256))*0.95\n",
    "\n",
    "print(f'Доверительный интервал : [{t1};{t2}]')"
   ]
  },
  {
   "cell_type": "markdown",
   "metadata": {},
   "source": [
    "***В результате 10 независимых измерений некоторой величины X, выполненных с одинаковой точностью, получены опытные данные: 6.9, 6.1, 6.2, 6.8, 7.5, 6.3, 6.4, 6.9, 6.7, 6.1 Предполагая, что результаты измерений подчинены нормальному закону распределения вероятностей, оценить истинное значение величины X при помощи доверительного интервала, покрывающего это значение с доверительной вероятностью 0,95. 3,4 задачи решать через тестирование гипотезы***\n",
    "\n",
    "$$ c_{\\gamma}=0.95 $$\n"
   ]
  },
  {
   "cell_type": "code",
   "execution_count": 2,
   "metadata": {},
   "outputs": [
    {
     "name": "stdout",
     "output_type": "stream",
     "text": [
      "Доверительный интервал : [6.4615;6.7185]\n"
     ]
    }
   ],
   "source": [
    "array = [6.9, 6.1, 6.2, 6.8, 7.5, 6.3, 6.4, 6.9, 6.7, 6.1]\n",
    "\n",
    "def m_x(array):\n",
    "    summ = 0\n",
    "    for itm in array:\n",
    "        summ +=itm\n",
    "    return summ/len(array)\n",
    "\n",
    "def sigma(array, mean):\n",
    "    summ = 0\n",
    "    for itm in array:\n",
    "        summ += pow((mean - itm),2)\n",
    "    return sqrt(summ/len(array))\n",
    "\n",
    "m = m_x(array)\n",
    "std_ = std(array)\n",
    "n = len(array)\n",
    "\n",
    "t1 = m - (std_/sqrt(n))*0.95\n",
    "t2 = m + (std_/sqrt(n))*0.95\n",
    "\n",
    "print(f'Доверительный интервал : [{t1:.4f};{t2:.4f}]')"
   ]
  },
  {
   "cell_type": "markdown",
   "metadata": {},
   "source": [
    "***Утверждается, что шарики для подшипников, изготовленные автоматическим станком, имеют средний диаметр 17 мм.\n",
    "Используя односторонний критерий с α=0,05, проверить эту гипотезу, если в выборке из n=100 шариков средний диаметр\n",
    "оказался равным 17.5 мм, а дисперсия известна и равна 4 кв.мм.***\n",
    "\n",
    "$$ m1=17, m2=17.5, \\sigma=2, a=0.05, n=100$$\n",
    "\n",
    "Так как известны $\\mu_0$ и $\\mu_1$, критерий, размер и ср.квадр.отклонение, воспользуемся Z-критерием оценки гипотезы:"
   ]
  },
  {
   "cell_type": "code",
   "execution_count": 3,
   "metadata": {},
   "outputs": [
    {
     "data": {
      "text/plain": [
       "2.5"
      ]
     },
     "execution_count": 3,
     "metadata": {},
     "output_type": "execute_result"
    }
   ],
   "source": [
    "z=(17.5-17)/(2/sqrt(100))\n",
    "z"
   ]
  },
  {
   "cell_type": "markdown",
   "metadata": {},
   "source": [
    "$Z_T$ при а=0.05 равно 1.65\n",
    "$$1.65 < 2.5$$\n",
    "Откуда следует, что нулевая гипотеза неверна, ***средний диаметр подшипников равен 17.5; верна альтернативная гипотеза***"
   ]
  },
  {
   "cell_type": "markdown",
   "metadata": {},
   "source": [
    "***Продавец утверждает, что средний вес пачки печенья составляет 200 г.\n",
    "Из партии извлечена выборка из 10 пачек. Вес каждой пачки составляет:\n",
    "202, 203, 199, 197, 195, 201, 200, 204, 194, 190.\n",
    "Известно, что их веса распределены нормально.\n",
    "Верно ли утверждение продавца, если учитывать, что доверительная вероятность равна 99%?***\n",
    "\n",
    "Рассчет доверительного интервала по критерию Стьюдента:\n",
    "\n",
    "$$\\overline{X} + t_a/2 \\cdot \\sigma/sqrt(n)$$"
   ]
  },
  {
   "cell_type": "code",
   "execution_count": 4,
   "metadata": {},
   "outputs": [
    {
     "name": "stdout",
     "output_type": "stream",
     "text": [
      "Доверительный интервал:[198.4933,198.5067]\n"
     ]
    }
   ],
   "source": [
    "list = [202, 203, 199, 197, 195, 201, 200, 204, 194, 190]\n",
    "\n",
    "m = m_x(list)\n",
    "s = std(list)\n",
    "\n",
    "#alpha/2 = 0.01/2=0.005 => из таблицы при 9й степени свободы 3.250\n",
    "st1 = m + 0.005*s/sqrt(10)\n",
    "st2 = m - 0.005*s/sqrt(10)\n",
    "\n",
    "print(f'Доверительный интервал:[{st2:.4f},{st1:.4f}]')"
   ]
  },
  {
   "cell_type": "code",
   "execution_count": 5,
   "metadata": {},
   "outputs": [
    {
     "data": {
      "text/plain": [
       "0.35345466241827694"
      ]
     },
     "execution_count": 5,
     "metadata": {},
     "output_type": "execute_result"
    }
   ],
   "source": [
    "t1 = (200 - st1)/s\n",
    "t1"
   ]
  },
  {
   "cell_type": "code",
   "execution_count": 6,
   "metadata": {},
   "outputs": [
    {
     "data": {
      "text/plain": [
       "0.35661694007844935"
      ]
     },
     "execution_count": 6,
     "metadata": {},
     "output_type": "execute_result"
    }
   ],
   "source": [
    "t2 = (200-st2)/s\n",
    "t2"
   ]
  },
  {
   "cell_type": "markdown",
   "metadata": {},
   "source": [
    "$$t1,t2 < t=3.25 ,=>$$ ***утверждение продавца верно***"
   ]
  },
  {
   "cell_type": "code",
   "execution_count": null,
   "metadata": {},
   "outputs": [],
   "source": []
  }
 ],
 "metadata": {
  "kernelspec": {
   "display_name": "Python 3",
   "language": "python",
   "name": "python3"
  },
  "language_info": {
   "codemirror_mode": {
    "name": "ipython",
    "version": 3
   },
   "file_extension": ".py",
   "mimetype": "text/x-python",
   "name": "python",
   "nbconvert_exporter": "python",
   "pygments_lexer": "ipython3",
   "version": "3.8.5"
  }
 },
 "nbformat": 4,
 "nbformat_minor": 4
}
