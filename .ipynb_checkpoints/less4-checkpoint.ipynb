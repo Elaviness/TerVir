{
 "cells": [
  {
   "cell_type": "markdown",
   "metadata": {},
   "source": [
    "Случайная непрерывная величина A имеет равномерное распределение на промежутке (200, 800].\n",
    "Найдите ее среднее значение и дисперсию."
   ]
  },
  {
   "cell_type": "code",
   "execution_count": 1,
   "metadata": {},
   "outputs": [
    {
     "name": "stdout",
     "output_type": "stream",
     "text": [
      "Среднее значение: 500.0,\n",
      "Дисперсия: 30000.0\n"
     ]
    }
   ],
   "source": [
    "m_x = (200+800)/2\n",
    "d_x = ((800-200)**2)/12\n",
    "\n",
    "print(f'Среднее значение: {m_x},\\nДисперсия: {d_x}')"
   ]
  },
  {
   "cell_type": "markdown",
   "metadata": {},
   "source": [
    "О случайной непрерывной равномерно распределенной величине B известно, что ее дисперсия равна 0.2.\n",
    "Можно ли найти правую границу величины B и ее среднее значение зная, что левая граница равна 0.5?\n",
    "Если да, найдите ее."
   ]
  },
  {
   "cell_type": "code",
   "execution_count": 2,
   "metadata": {},
   "outputs": [
    {
     "name": "stdout",
     "output_type": "stream",
     "text": [
      "Правая граница: 2.049193338482967,\n",
      "Среднее значение: 1.2745966692414834\n"
     ]
    }
   ],
   "source": [
    "disp_x = 0.2\n",
    "a = 0.5\n",
    "\n",
    "# m(x)=(a+b)/2  d(x)=(b-a)^2 / 12\n",
    "# Зная дисперсию, найдем правую границу: 12*d(x)=(b-a)^2 => sqrt(12*d(x))=b-a => b=sqrt(12*d(x))+a\n",
    "\n",
    "from math import sqrt\n",
    "\n",
    "b = sqrt(12*disp_x) + a\n",
    "\n",
    "# Зная границы, можем найти среднее значение (мат.ожидание)\n",
    "\n",
    "m = (a+b)/2\n",
    "\n",
    "print(f'Правая граница: {b},\\nСреднее значение: {m}')"
   ]
  },
  {
   "cell_type": "markdown",
   "metadata": {},
   "source": [
    "Непрерывная случайная величина X распределена нормально и задана плотностью распределения\n",
    "f(x) = (1 / (4 * sqrt(2*pi))) * (exp(-(x+2)**2) / 32).\n",
    "Найдите:\n",
    "а). M(X)\n",
    "б). D(X)\n",
    "в). std(X) (среднее квадратичное отклонение)\n",
    "\n",
    "$$f(x) = \\frac{1}{4* \\sqrt{2 \\pi}} e ^ {- \\frac{(x - 2)^2}{32}},$$"
   ]
  },
  {
   "cell_type": "code",
   "execution_count": 3,
   "metadata": {},
   "outputs": [
    {
     "name": "stdout",
     "output_type": "stream",
     "text": [
      "M(X)=2;\n",
      "D(X):16;\n",
      "std(x)=4\n"
     ]
    }
   ],
   "source": [
    "# Из уравнения плотности распределения следует, что сигма = 4, а M(X)=2\n",
    "\n",
    "m_x = 2\n",
    "d_x = 4**2\n",
    "std_x = 4\n",
    "\n",
    "print(f'M(X)={m_x};\\nD(X):{d_x};\\nstd(x)={std_x}')"
   ]
  },
  {
   "cell_type": "markdown",
   "metadata": {},
   "source": [
    "Рост взрослого населения города X имеет нормальное распределение.\n",
    "Причем, средний рост равен 174 см, а среднее квадратичное отклонение равно 8 см.\n",
    "Какова вероятность того, что случайным образом выбранный взрослый человек имеет рост:\n",
    "а). больше 182 см\n",
    "б). больше 190 см\n",
    "в). от 166 см до 190 см\n",
    "г). от 166 см до 182 см\n",
    "д). от 158 см до 190 см\n",
    "е). не выше 150 см или не ниже 190 см\n",
    "ё). не выше 150 см или не ниже 198 см\n",
    "ж). ниже 166 см."
   ]
  },
  {
   "cell_type": "code",
   "execution_count": 4,
   "metadata": {},
   "outputs": [],
   "source": [
    "# m_x= 174, std_x = 8\n",
    "# Используем Z-таблицу"
   ]
  },
  {
   "cell_type": "code",
   "execution_count": 5,
   "metadata": {},
   "outputs": [
    {
     "name": "stdout",
     "output_type": "stream",
     "text": [
      "a) 0.15870000000000006\n",
      "б) 0.02279999999999993\n",
      "в) 0.6359000000000001\n",
      "г) 0.6825999999999999\n",
      "д) 0.9544000000000001\n",
      "е) 0.024099999999999955\n",
      "ё) 0.0026000000000000467\n",
      "ж) 0.1587\n"
     ]
    }
   ],
   "source": [
    "#Используем Z\n",
    "\n",
    "# 182 = 174 + 8, => нужна площадь больше 1 сигмы\n",
    "\n",
    "a = 1 - (0.5 + 0.3413)\n",
    "\n",
    "# 190=2std \n",
    "b = 1 - (0.5 + 0.4772)\n",
    "\n",
    "#166=-1std\n",
    "c = (0.5+0.4772) - 0.3413\n",
    "\n",
    "# -std:std\n",
    "d = 1 - 2*a\n",
    "\n",
    "#-2std:2std\n",
    "e = 1 - 2*b\n",
    "\n",
    "# <-3std||>2std\n",
    "f = (0.5 - 0.4987) + b \n",
    "\n",
    "# <-3std || >3std\n",
    "g = 2* (f-b)\n",
    "\n",
    "# <-std\n",
    "h = 0.5 - 0.3413\n",
    "\n",
    "print(f'a) {a}\\nб) {b}\\nв) {c}\\nг) {d}\\nд) {e}\\nе) {f}\\nё) {g}\\nж) {h}')"
   ]
  },
  {
   "cell_type": "markdown",
   "metadata": {},
   "source": [
    "На сколько сигм (средних квадратичных отклонений) отклоняется рост человека, равный 190 см, от\n",
    "математического ожидания роста в популяции, в которой M(X) = 178 см и D(X) = 25 кв.см?\n",
    "\n",
    "$${D(X)=\\sigma^2}$$"
   ]
  },
  {
   "cell_type": "code",
   "execution_count": 6,
   "metadata": {},
   "outputs": [
    {
     "data": {
      "text/plain": [
       "2.4"
      ]
     },
     "execution_count": 6,
     "metadata": {},
     "output_type": "execute_result"
    }
   ],
   "source": [
    "std = 5\n",
    "\n",
    "result = (190 - 178) / std\n",
    "result"
   ]
  },
  {
   "cell_type": "code",
   "execution_count": null,
   "metadata": {},
   "outputs": [],
   "source": []
  }
 ],
 "metadata": {
  "kernelspec": {
   "display_name": "Python 3",
   "language": "python",
   "name": "python3"
  },
  "language_info": {
   "codemirror_mode": {
    "name": "ipython",
    "version": 3
   },
   "file_extension": ".py",
   "mimetype": "text/x-python",
   "name": "python",
   "nbconvert_exporter": "python",
   "pygments_lexer": "ipython3",
   "version": "3.8.5"
  }
 },
 "nbformat": 4,
 "nbformat_minor": 4
}
